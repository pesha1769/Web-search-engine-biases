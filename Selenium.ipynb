{
 "cells": [
  {
   "cell_type": "code",
   "execution_count": 1,
   "metadata": {},
   "outputs": [],
   "source": [
    "# necessary libraries\n",
    "import numpy as np\n",
    "import pandas as pd\n",
    "import re\n",
    "import time\n",
    "\n",
    "# selenium web scrapping \n",
    "from selenium import webdriver \n",
    "from webdriver_manager.chrome import ChromeDriverManager\n",
    "\n",
    "from selenium.webdriver.common.by import By\n",
    "from selenium.webdriver.support.ui import WebDriverWait\n",
    "from selenium.webdriver.support import expected_conditions as EC\n",
    "from selenium.webdriver.common.keys import Keys"
   ]
  },
  {
   "cell_type": "markdown",
   "metadata": {},
   "source": [
    "# Testing Selenium for login and searching Google\n",
    "\n",
    "Logging in google accounts via selenium is not working:\n",
    "\n",
    "https://gist.github.com/ikegami-yukino/51b247080976cb41fe93#\n",
    "\n",
    "ERROR: \"This browser or app may not be secure\"\n"
   ]
  },
  {
   "cell_type": "markdown",
   "metadata": {},
   "source": [
    "# Functions:"
   ]
  },
  {
   "cell_type": "code",
   "execution_count": 40,
   "metadata": {},
   "outputs": [],
   "source": [
    "# NOT WORKING at all\n",
    "# def login_google(email,password):\n",
    "#     url = \"https://accounts.google.com/ServiceLogin?service=mail&continue=https://mail.google.com/mail/#identifier\"\n",
    "#     browser.get(url)\n",
    "#     browser.find_element_by_xpath('//*[@id=\"identifierId\"]').send_keys(email + Keys.ENTER)\n",
    "#     WebDriverWait(browser, 10).until(\n",
    "#         EC.presence_of_element_located((By.XPATH, '//*[@id=\"password\"]/div[1]/div/div[1]/input'))).send_keys(password + Keys.ENTER)\n",
    "    "
   ]
  },
  {
   "cell_type": "code",
   "execution_count": 2,
   "metadata": {},
   "outputs": [],
   "source": [
    "def ChangeProxy(proxy):\n",
    "    capabilities = webdriver.DesiredCapabilities.CHROME.copy()\n",
    "    capabilities['proxy'] = {\n",
    "        \"httpProxy\": proxy,\n",
    "        \"ftpProxy\": proxy,\n",
    "        \"sslProxy\": proxy,\n",
    "        \"noProxy\": None,\n",
    "        \"proxyType\": \"MANUAL\",\n",
    "        \"class\": \"org.openqa.selenium.Proxy\",\n",
    "        \"autodetect\": False\n",
    "    }\n",
    "    \n",
    "    return(capabilities)"
   ]
  },
  {
   "cell_type": "code",
   "execution_count": 3,
   "metadata": {},
   "outputs": [],
   "source": [
    "# WORKING but Google blocks account in a while\n",
    "def LoginGoogle(email, password):\n",
    "    # new driver for a new account (signed-in search)\n",
    "    browser = webdriver.Chrome(ChromeDriverManager().install(), desired_capabilities=None)\n",
    "\n",
    "    # log in using stackoverflow.com \n",
    "    #browser.get('https://accounts.google.com/signin/oauth/identifier?client_id=717762328687-iludtf96g1hinl76e4lc1b9a82g457nn.apps.googleusercontent.com&as=hhP6IOeJDYTyWGPFxmNFCw&destination=https%3A%2F%2Fstackauth.com&approval_state=!ChRfbmZaSWxMWXFuNVBGQW0wUWFFNBIfVXhRVnRaSk0taFlkMEVBN1JaNXdOM09OS3RIREJ4Yw%E2%88%99AF-3PDcAAAAAXlZfFoFshMv4nBqo0_jkZo9RQXsT6UO-&oauthgdpr=1&xsrfsig=ChkAeAh8Tz0dCH3vnLQbQ9X-nhFhFN76cDt_Eg5hcHByb3ZhbF9zdGF0ZRILZGVzdGluYXRpb24SBXNvYWN1Eg9vYXV0aHJpc2t5c2NvcGU&flowName=GeneralOAuthFlow')\n",
    "    \n",
    "    # or soundcloud.com\n",
    "    browser.get('https://accounts.google.com/signin/oauth/identifier?client_id=984739005367.apps.googleusercontent.com&as=OjPXjsHQbOoh7aJEF5MxLQ&destination=https%3A%2F%2Fsoundcloud.com&approval_state=!ChR3eHVpME5ETDVySFpIOTRyRnNfWBIfazZySHhzcTdlaW9XMEVBN1JaNXdOM1BOaEozREJ4Yw%E2%88%99AF-3PDcAAAAAXlZeQqSVcjiMkVRNnD0fNd6-Yooea5Eu&oauthgdpr=1&xsrfsig=ChkAeAh8TxrMJywUUOdyRWIQPx0KoVZpLMOBEg5hcHByb3ZhbF9zdGF0ZRILZGVzdGluYXRpb24SBXNvYWN1Eg9vYXV0aHJpc2t5c2NvcGU&flowName=GeneralOAuthFlow')\n",
    "\n",
    "    time.sleep(3)\n",
    "    browser.find_element_by_xpath('//*[@id=\"identifierId\"]').send_keys(email + Keys.ENTER) \n",
    "    time.sleep(3)\n",
    "    browser.find_element_by_xpath('//input[@type=\"password\"]').send_keys(password + Keys.ENTER)\n",
    "    \n",
    "    return(browser)"
   ]
  },
  {
   "cell_type": "code",
   "execution_count": 4,
   "metadata": {},
   "outputs": [],
   "source": [
    "def LogoutGoogle():\n",
    "    # new driver for signed-out search\n",
    "    browser = webdriver.Chrome(ChromeDriverManager().install(), desired_capabilities=None)\n",
    "\n",
    "    browser.get('https://www.google.com/history/optout?cb=1&hl=en&continue=https%3A%2F%2Fconsent.google.com%2Fui%2F%3Fcontinue%3Dhttps%3A%2F%2Fwww.google.com%2Fsearch%3Fsource%253Dhp%2526ei%253D-Q9VXriOKoHeas2YofAO%2526q%253DSoftware%252Btesting%26origin%3Dhttps%3A%2F%2Fwww.google.com%26if%3D1%26wp%3D71%26gl%3DFR%26hl%3Den%26pc%3Ds%23controls')\n",
    "    browser.find_element_by_xpath('/html/body/div/div[1]/div[2]/div/table/tbody/tr/td[2]/form/button/div').click()\n",
    "    \n",
    "    return(browser)"
   ]
  },
  {
   "cell_type": "code",
   "execution_count": 29,
   "metadata": {},
   "outputs": [],
   "source": [
    "def SearchGoogle(query, browser, max_num_res=10):\n",
    "    \n",
    "    browser.get(\"https://google.com\") \n",
    "    browser.find_element_by_xpath(\"//input[@name='q']\").send_keys(query + Keys.ENTER)\n",
    "    \n",
    "    search_results = []\n",
    "    elements = browser.find_elements_by_class_name('r')\n",
    "    # scrapping first 'max_num_res' results (or less)\n",
    "    for i in range(len(elements)): \n",
    "        if i==max_num_res:\n",
    "            break\n",
    "        search_results.append( elements[i].find_element_by_css_selector('a').get_attribute('href') )\n",
    "        \n",
    "    return search_results\n",
    "    "
   ]
  },
  {
   "cell_type": "code",
   "execution_count": null,
   "metadata": {},
   "outputs": [],
   "source": []
  },
  {
   "cell_type": "markdown",
   "metadata": {},
   "source": [
    "# Main:"
   ]
  },
  {
   "cell_type": "code",
   "execution_count": null,
   "metadata": {},
   "outputs": [],
   "source": [
    "# install Google Chrome driver and use localhost \n",
    "# browser = webdriver.Chrome(ChromeDriverManager().install(), desired_capabilities=change_proxy(proxy = \"localhost:8080\"))"
   ]
  },
  {
   "cell_type": "code",
   "execution_count": null,
   "metadata": {},
   "outputs": [],
   "source": [
    "# browser.save_screenshot('screenshot.png')"
   ]
  },
  {
   "cell_type": "markdown",
   "metadata": {},
   "source": [
    "### Logged in"
   ]
  },
  {
   "cell_type": "code",
   "execution_count": 35,
   "metadata": {},
   "outputs": [],
   "source": [
    "%%capture\n",
    "# logged-in session \n",
    "# account: sex:men, age:43, ip:FR, purpose:testing selenium \n",
    "browser_logged_in = LoginGoogle(email='alexfromensk@gmail.com',\n",
    "                                 password='Ensk2capitana') "
   ]
  },
  {
   "cell_type": "code",
   "execution_count": 68,
   "metadata": {},
   "outputs": [],
   "source": [
    "# signed-in search for a particular query\n",
    "results_logged_in = SearchGoogle(query=\"sport\",\n",
    "             browser=browser_logged_in,\n",
    "             max_num_res=10)"
   ]
  },
  {
   "cell_type": "code",
   "execution_count": 69,
   "metadata": {},
   "outputs": [
    {
     "data": {
      "text/plain": [
       "['https://www.sport.fr/',\n",
       " 'https://www.sports.fr/',\n",
       " 'https://www.lequipe.fr/',\n",
       " 'http://sport24.lefigaro.fr/',\n",
       " 'https://en.wikipedia.org/wiki/Sport',\n",
       " 'https://fr.wikipedia.org/wiki/Sport',\n",
       " 'https://www.20minutes.fr/sport/',\n",
       " 'https://sports.orange.fr/']"
      ]
     },
     "execution_count": 69,
     "metadata": {},
     "output_type": "execute_result"
    }
   ],
   "source": [
    "results_logged_in"
   ]
  },
  {
   "cell_type": "markdown",
   "metadata": {},
   "source": [
    "### Logged out "
   ]
  },
  {
   "cell_type": "code",
   "execution_count": 45,
   "metadata": {},
   "outputs": [],
   "source": [
    "%%capture\n",
    "# logged-out session\n",
    "browser_logged_out = LogoutGoogle() "
   ]
  },
  {
   "cell_type": "code",
   "execution_count": 66,
   "metadata": {},
   "outputs": [],
   "source": [
    "# ssigned-out search for a particular query\n",
    "results_logged_out = SearchGoogle(query=\"sport\",\n",
    "             browser=browser_logged_out,\n",
    "             max_num_res=10)"
   ]
  },
  {
   "cell_type": "code",
   "execution_count": 67,
   "metadata": {},
   "outputs": [
    {
     "data": {
      "text/plain": [
       "['https://www.sport.fr/',\n",
       " 'https://www.sports.fr/',\n",
       " 'https://www.lequipe.fr/',\n",
       " 'http://sport24.lefigaro.fr/',\n",
       " 'https://en.wikipedia.org/wiki/Sport',\n",
       " 'https://fr.wikipedia.org/wiki/Sport',\n",
       " 'https://www.20minutes.fr/sport/',\n",
       " 'https://sports.orange.fr/',\n",
       " 'https://www.lemonde.fr/sport/']"
      ]
     },
     "execution_count": 67,
     "metadata": {},
     "output_type": "execute_result"
    }
   ],
   "source": [
    "results_logged_out"
   ]
  },
  {
   "cell_type": "markdown",
   "metadata": {},
   "source": [
    "### Analysis"
   ]
  },
  {
   "cell_type": "code",
   "execution_count": 70,
   "metadata": {},
   "outputs": [
    {
     "data": {
      "text/plain": [
       "{'https://www.lemonde.fr/sport/'}"
      ]
     },
     "execution_count": 70,
     "metadata": {},
     "output_type": "execute_result"
    }
   ],
   "source": [
    "# show differences between two search results\n",
    "set(results_logged_out).symmetric_difference(results_logged_in)"
   ]
  },
  {
   "cell_type": "code",
   "execution_count": null,
   "metadata": {},
   "outputs": [],
   "source": [
    "# show similarities between two search results\n",
    "# set(results_logged_out).intersection(results_logged_in)"
   ]
  },
  {
   "cell_type": "code",
   "execution_count": null,
   "metadata": {},
   "outputs": [],
   "source": []
  }
 ],
 "metadata": {
  "kernelspec": {
   "display_name": "Python 3",
   "language": "python",
   "name": "python3"
  },
  "language_info": {
   "codemirror_mode": {
    "name": "ipython",
    "version": 3
   },
   "file_extension": ".py",
   "mimetype": "text/x-python",
   "name": "python",
   "nbconvert_exporter": "python",
   "pygments_lexer": "ipython3",
   "version": "3.7.6"
  }
 },
 "nbformat": 4,
 "nbformat_minor": 4
}
